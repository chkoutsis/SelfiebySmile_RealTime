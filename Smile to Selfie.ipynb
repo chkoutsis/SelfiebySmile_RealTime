{
 "cells": [
  {
   "cell_type": "markdown",
   "id": "d09fd62c",
   "metadata": {},
   "source": [
    "# 1. Import and Install Dependencies"
   ]
  },
  {
   "cell_type": "code",
   "execution_count": 1,
   "id": "3b99af49",
   "metadata": {},
   "outputs": [],
   "source": [
    "import cv2"
   ]
  },
  {
   "cell_type": "markdown",
   "id": "956820da",
   "metadata": {},
   "source": [
    "# 2. Real-Time"
   ]
  },
  {
   "cell_type": "code",
   "execution_count": 2,
   "id": "4f5c42b9",
   "metadata": {
    "scrolled": true
   },
   "outputs": [],
   "source": [
    "cap = cv2.VideoCapture(0)\n",
    "faceCascade = cv2.CascadeClassifier(cv2.data.haarcascades + '/haarcascade_frontalface_default.xml')\n",
    "smileCascade = cv2.CascadeClassifier(cv2.data.haarcascades + '/haarcascade_smile.xml')\n",
    "\n",
    "\n",
    "while True: \n",
    "    success, image= cap.read()\n",
    "    grayImg = cv2.cvtColor(image, cv2.COLOR_BGR2GRAY)\n",
    "    faces = faceCascade.detectMultiScale(grayImg, 1.1, 4)\n",
    "    \n",
    "    cnt = 1\n",
    "    keyPressed = cv2.waitKey(1)\n",
    "    for x,y,w,h in faces:\n",
    "        smiles = smileCascade.detectMultiScale(grayImg, 1.8, 15)\n",
    "        for x,y,w,h in smiles:   \n",
    "            path = '/images/image' + str(cnt) + '.jpg'\n",
    "            cv2.imwrite(path, image)\n",
    "            cnt +=1\n",
    "            if (cnt>=2):\n",
    "                break\n",
    "                   \n",
    "    cv2.imshow(\"Selfie\",image)\n",
    "       \n",
    "    if cv2.waitKey(1) & 0xFF == ord('q'):\n",
    "        cap.release()\n",
    "        break\n",
    "        \n",
    "cap.release()\n",
    "cv2.destroyAllWindows()"
   ]
  }
 ],
 "metadata": {
  "kernelspec": {
   "display_name": "Python 3",
   "language": "python",
   "name": "python3"
  },
  "language_info": {
   "codemirror_mode": {
    "name": "ipython",
    "version": 3
   },
   "file_extension": ".py",
   "mimetype": "text/x-python",
   "name": "python",
   "nbconvert_exporter": "python",
   "pygments_lexer": "ipython3",
   "version": "3.7.10"
  }
 },
 "nbformat": 4,
 "nbformat_minor": 5
}
